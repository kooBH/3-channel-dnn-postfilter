{
 "cells": [
  {
   "cell_type": "code",
   "execution_count": 3,
   "metadata": {},
   "outputs": [],
   "source": [
    "import librosa\n",
    "import scipy\n",
    "import scipy.io\n",
    "import numpy as np\n",
    "import torch\n",
    "import torchaudio\n",
    "import matplotlib.pyplot as plt\n",
    "import librosa.display\n",
    "import soundfile"
   ]
  },
  {
   "cell_type": "code",
   "execution_count": 4,
   "metadata": {},
   "outputs": [],
   "source": [
    "noise = np.load('noise.npy')\n",
    "noisy = np.load('noisy.npy')\n",
    "estim = np.load('estim.npy')\n",
    "clean = np.load('clean.npy')"
   ]
  },
  {
   "cell_type": "code",
   "execution_count": 5,
   "metadata": {},
   "outputs": [],
   "source": [
    "noise = librosa.istft(noise,window='hann', hop_length=None , win_length=None ,center=False)\n",
    "noisy = librosa.istft(noisy,window='hann', hop_length=None , win_length=None ,center=False)\n",
    "estim = librosa.istft(estim,window='hann', hop_length=None , win_length=None ,center=False)\n",
    "clean = librosa.istft(clean,window='hann', hop_length=None , win_length=None ,center=False)"
   ]
  },
  {
   "cell_type": "code",
   "execution_count": 6,
   "metadata": {},
   "outputs": [],
   "source": [
    "soundfile.write('recover_noise.wav',noise,16000);\n",
    "soundfile.write('recover_noisy.wav',noisy,16000);\n",
    "soundfile.write('recover_estim.wav',estim,16000);\n",
    "soundfile.write('recover_clean.wav',clean,16000);"
   ]
  },
  {
   "cell_type": "markdown",
   "metadata": {},
   "source": [
    "# Check"
   ]
  },
  {
   "cell_type": "code",
   "execution_count": 10,
   "metadata": {},
   "outputs": [],
   "source": [
    "spec_noisy = librosa.stft(noisy,window='hann', n_fft=1024, hop_length=None , win_length=None ,center=False)"
   ]
  },
  {
   "cell_type": "code",
   "execution_count": 13,
   "metadata": {},
   "outputs": [
    {
     "data": {
      "text/plain": [
       "(513, 387)"
      ]
     },
     "metadata": {},
     "output_type": "display_data"
    },
    {
     "data": {
      "text/plain": [
       "(-2.1040707+0j)"
      ]
     },
     "metadata": {},
     "output_type": "display_data"
    }
   ],
   "source": [
    "display(spec_noisy.shape)\n",
    "display(spec_noisy[0][0])"
   ]
  },
  {
   "cell_type": "code",
   "execution_count": 43,
   "metadata": {},
   "outputs": [
    {
     "data": {
      "text/plain": [
       "'x.shape : (513, 387, 1)'"
      ]
     },
     "metadata": {},
     "output_type": "display_data"
    },
    {
     "data": {
      "text/plain": [
       "'z.shape : (513, 387, 2)'"
      ]
     },
     "metadata": {},
     "output_type": "display_data"
    },
    {
     "data": {
      "text/plain": [
       "array([-2.1040707,  0.       ], dtype=float32)"
      ]
     },
     "execution_count": 43,
     "metadata": {},
     "output_type": "execute_result"
    }
   ],
   "source": [
    "x = spec_noisy.real\n",
    "y = spec_noisy.imag\n",
    "x = np.expand_dims(x,-1)\n",
    "y = np.expand_dims(y,-1)\n",
    "display('x.shape : ' + str(x.shape))\n",
    "z = np.concatenate((x,y),2)\n",
    "display('z.shape : ' + str(z.shape))\n",
    "z[0][0][:]"
   ]
  },
  {
   "cell_type": "code",
   "execution_count": null,
   "metadata": {},
   "outputs": [],
   "source": []
  },
  {
   "cell_type": "code",
   "execution_count": null,
   "metadata": {},
   "outputs": [],
   "source": []
  }
 ],
 "metadata": {
  "kernelspec": {
   "display_name": "Python 3",
   "language": "python",
   "name": "python3"
  },
  "language_info": {
   "codemirror_mode": {
    "name": "ipython",
    "version": 3
   },
   "file_extension": ".py",
   "mimetype": "text/x-python",
   "name": "python",
   "nbconvert_exporter": "python",
   "pygments_lexer": "ipython3",
   "version": "3.8.0"
  }
 },
 "nbformat": 4,
 "nbformat_minor": 4
}
