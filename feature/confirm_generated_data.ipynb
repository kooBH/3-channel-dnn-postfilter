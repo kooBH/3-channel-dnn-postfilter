{
 "cells": [
  {
   "cell_type": "code",
   "execution_count": 7,
   "metadata": {},
   "outputs": [],
   "source": [
    "import librosa\n",
    "import scipy\n",
    "import scipy.io\n",
    "import numpy as np\n",
    "import torch\n",
    "import torchaudio\n",
    "import matplotlib.pyplot as plt\n",
    "import librosa.display\n",
    "import soundfile"
   ]
  },
  {
   "cell_type": "code",
   "execution_count": 8,
   "metadata": {},
   "outputs": [],
   "source": [
    "noise = np.load('noise.npy')\n",
    "noisy = np.load('noisy.npy')\n",
    "estim = np.load('estim.npy')\n",
    "clean = np.load('clean.npy')"
   ]
  },
  {
   "cell_type": "code",
   "execution_count": 9,
   "metadata": {},
   "outputs": [],
   "source": [
    "noise = librosa.istft(noise,window='hann', hop_length=None , win_length=None ,center=False)\n",
    "noisy = librosa.istft(noisy,window='hann', hop_length=None , win_length=None ,center=False)\n",
    "estim = librosa.istft(estim,window='hann', hop_length=None , win_length=None ,center=False)\n",
    "clean = librosa.istft(clean,window='hann', hop_length=None , win_length=None ,center=False)"
   ]
  },
  {
   "cell_type": "code",
   "execution_count": 10,
   "metadata": {},
   "outputs": [],
   "source": [
    "soundfile.write('recover_noise.wav',noise,16000);\n",
    "soundfile.write('recover_noisy.wav',noisy,16000);\n",
    "soundfile.write('recover_estim.wav',estim,16000);\n",
    "soundfile.write('recover_clean.wav',clean,16000);"
   ]
  }
 ],
 "metadata": {
  "kernelspec": {
   "display_name": "Python 3",
   "language": "python",
   "name": "python3"
  },
  "language_info": {
   "codemirror_mode": {
    "name": "ipython",
    "version": 3
   },
   "file_extension": ".py",
   "mimetype": "text/x-python",
   "name": "python",
   "nbconvert_exporter": "python",
   "pygments_lexer": "ipython3",
   "version": "3.8.0"
  }
 },
 "nbformat": 4,
 "nbformat_minor": 4
}
