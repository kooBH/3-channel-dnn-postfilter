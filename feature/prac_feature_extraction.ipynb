{
 "cells": [
  {
   "cell_type": "markdown",
   "metadata": {},
   "source": [
    "13th-order LMPSC"
   ]
  },
  {
   "cell_type": "code",
   "execution_count": 1,
   "metadata": {},
   "outputs": [
    {
     "name": "stderr",
     "output_type": "stream",
     "text": [
      "/home/kbh/anaconda3/envs/dnn/lib/python3.8/site-packages/torchaudio/backend/utils.py:53: UserWarning: \"sox\" backend is being deprecated. The default backend will be changed to \"sox_io\" backend in 0.8.0 and \"sox\" backend will be removed in 0.9.0. Please migrate to \"sox_io\" backend. Please refer to https://github.com/pytorch/audio/issues/903 for the detail.\n",
      "  warnings.warn(\n"
     ]
    }
   ],
   "source": [
    "import librosa\n",
    "import scipy\n",
    "import scipy.io\n",
    "import numpy as np\n",
    "import torch\n",
    "import torchaudio\n",
    "import matplotlib.pyplot as plt\n",
    "import librosa.display\n",
    "import soundfile"
   ]
  },
  {
   "cell_type": "markdown",
   "metadata": {},
   "source": [
    "## Data Load"
   ]
  },
  {
   "cell_type": "code",
   "execution_count": 2,
   "metadata": {},
   "outputs": [],
   "source": [
    "noisy, sr = librosa.load('input.wav',sr=16000)\n",
    "estim, sr = librosa.load('estimated.wav',sr=16000)\n",
    "noise_mask = scipy.io.loadmat('noise_mask.mat')\n",
    "noise_mask = noise_mask['noise_mask']"
   ]
  },
  {
   "cell_type": "markdown",
   "metadata": {},
   "source": [
    "## Setting"
   ]
  },
  {
   "cell_type": "code",
   "execution_count": 3,
   "metadata": {},
   "outputs": [],
   "source": [
    "fft_size = 1024"
   ]
  },
  {
   "cell_type": "code",
   "execution_count": 4,
   "metadata": {},
   "outputs": [],
   "source": [
    "window = torch.hann_window(window_length=fft_size,periodic=True, dtype=None, \n",
    "                           layout=torch.strided, device=None, requires_grad=False)"
   ]
  },
  {
   "cell_type": "markdown",
   "metadata": {},
   "source": [
    "## Normalization"
   ]
  },
  {
   "cell_type": "code",
   "execution_count": 5,
   "metadata": {
    "scrolled": true
   },
   "outputs": [],
   "source": [
    "max_val = np.max(np.abs(noisy))\n",
    "noisy = noisy / max_val\n",
    "\n",
    "max_val = np.max(np.abs(estim))\n",
    "estim = estim / max_val"
   ]
  },
  {
   "cell_type": "code",
   "execution_count": 6,
   "metadata": {},
   "outputs": [],
   "source": [
    "unsync_noisy = noisy.view()"
   ]
  },
  {
   "cell_type": "markdown",
   "metadata": {},
   "source": [
    "## Syncronization"
   ]
  },
  {
   "cell_type": "code",
   "execution_count": 7,
   "metadata": {},
   "outputs": [],
   "source": [
    "def cross_correlation_using_fft(x, y):\n",
    "    f1 = np.fft.fft(x)\n",
    "    f2 = np.fft.fft(np.flipud(y))\n",
    "    cc = np.real(np.fft.ifft(f1 * f2))\n",
    "    return np.fft.fftshift(cc)\n",
    "\n",
    "# shift < 0 means that y starts 'shift' time steps before x \n",
    "# shift > 0 means that y starts 'shift' time steps after x\n",
    "def compute_shift(x, y):\n",
    "    assert len(x) == len(y)\n",
    "    c = cross_correlation_using_fft(x, y)\n",
    "    assert len(c) == len(x)\n",
    "    zero_index = int(len(x) / 2) - 1\n",
    "    shift = zero_index - np.argmax(c)\n",
    "    return shift"
   ]
  },
  {
   "cell_type": "code",
   "execution_count": 8,
   "metadata": {},
   "outputs": [],
   "source": [
    "diff = compute_shift(estim,noisy)\n",
    "estim = estim[-diff:]\n",
    "noisy = noisy[:len(estim)]"
   ]
  },
  {
   "cell_type": "markdown",
   "metadata": {},
   "source": [
    "## Spectrum"
   ]
  },
  {
   "cell_type": "code",
   "execution_count": 9,
   "metadata": {},
   "outputs": [],
   "source": [
    "spec_noisy = librosa.stft(noisy,window='hann', n_fft=fft_size, hop_length=None , win_length=None ,center=False)\n",
    "spec_estim = librosa.stft(estim,window='hann', n_fft=fft_size, hop_length=None , win_length=None ,center=False)\n",
    "spec_unsync_noisy = librosa.stft(unsync_noisy,window='hann', n_fft=fft_size, hop_length=None , win_length=None ,center=False)"
   ]
  },
  {
   "cell_type": "code",
   "execution_count": 10,
   "metadata": {
    "scrolled": true
   },
   "outputs": [
    {
     "data": {
      "text/plain": [
       "(513, 383)"
      ]
     },
     "metadata": {},
     "output_type": "display_data"
    },
    {
     "data": {
      "text/plain": [
       "(513, 383)"
      ]
     },
     "metadata": {},
     "output_type": "display_data"
    },
    {
     "data": {
      "text/plain": [
       "(513, 386)"
      ]
     },
     "metadata": {},
     "output_type": "display_data"
    }
   ],
   "source": [
    "display(spec_noisy.shape)\n",
    "display(spec_estim.shape)\n",
    "display(spec_unsync_noisy.shape)"
   ]
  },
  {
   "cell_type": "markdown",
   "metadata": {},
   "source": [
    "* Note   \n",
    "if ```center``` is ```True(default) ``` torch stft will use padding for the input and use residual samples in the end.\n"
   ]
  },
  {
   "cell_type": "markdown",
   "metadata": {},
   "source": [
    "## Masking"
   ]
  },
  {
   "cell_type": "code",
   "execution_count": 11,
   "metadata": {},
   "outputs": [],
   "source": [
    "spec_noise = spec_unsync_noisy*noise_mask"
   ]
  },
  {
   "cell_type": "markdown",
   "metadata": {},
   "source": [
    "## Sync Masked"
   ]
  },
  {
   "cell_type": "code",
   "execution_count": 12,
   "metadata": {},
   "outputs": [],
   "source": [
    "noise = librosa.istft(spec_noise,window='hann', hop_length=None , win_length=None ,center=False)\n",
    "noise = noise[:len(estim)]\n",
    "spec_noise = librosa.stft(noise,window='hann', n_fft=fft_size, hop_length=None , win_length=None ,center=False)"
   ]
  },
  {
   "cell_type": "markdown",
   "metadata": {},
   "source": [
    "## Check Point"
   ]
  },
  {
   "cell_type": "code",
   "execution_count": 13,
   "metadata": {
    "scrolled": false
   },
   "outputs": [
    {
     "data": {
      "text/plain": [
       "(513, 383)"
      ]
     },
     "metadata": {},
     "output_type": "display_data"
    },
    {
     "data": {
      "text/plain": [
       "(513, 383)"
      ]
     },
     "metadata": {},
     "output_type": "display_data"
    },
    {
     "data": {
      "text/plain": [
       "(513, 383)"
      ]
     },
     "metadata": {},
     "output_type": "display_data"
    }
   ],
   "source": [
    "display(spec_noisy.shape)\n",
    "display(spec_estim.shape)\n",
    "display(spec_noise.shape)"
   ]
  },
  {
   "cell_type": "markdown",
   "metadata": {},
   "source": [
    "## LMPSC"
   ]
  },
  {
   "cell_type": "markdown",
   "metadata": {},
   "source": [
    "[Melspectrogram](https://librosa.org/doc/main/generated/librosa.feature.melspectrogram.html#librosa.feature.melspectrogram)  \n",
    "[Mel filter-bank](https://librosa.org/doc/main/generated/librosa.filters.mel.html#librosa.filters.mel)  \n"
   ]
  },
  {
   "cell_type": "code",
   "execution_count": 36,
   "metadata": {},
   "outputs": [],
   "source": [
    "lmpsc_noisy = librosa.feature.melspectrogram( S=spec_noisy, n_fft=fft_size, hop_length=int(fft_size/4),\n",
    "                               win_length=None, window='hann', center=False, pad_mode='reflect', power=2.0, n_mels=40)\n",
    "lmpsc_estim = librosa.feature.melspectrogram( S=spec_estim, n_fft=fft_size, hop_length=int(fft_size/4), \n",
    "                               win_length=None, window='hann', center=False, pad_mode='reflect', power=2.0, n_mels=13)\n",
    "lmpsc_noise = librosa.feature.melspectrogram( S=spec_noise, n_fft=fft_size, hop_length=int(fft_size/4), \n",
    "                               win_length=None, window='hann', center=False, pad_mode='reflect', power=2.0, n_mels=13)"
   ]
  },
  {
   "cell_type": "code",
   "execution_count": 37,
   "metadata": {},
   "outputs": [
    {
     "data": {
      "text/plain": [
       "[Text(0.5, 1.0, 'LMPSC')]"
      ]
     },
     "execution_count": 37,
     "metadata": {},
     "output_type": "execute_result"
    },
    {
     "data": {
      "image/png": "[encoded data removed]",
      "text/plain": [
       "<Figure size 432x288 with 2 Axes>"
      ]
     },
     "metadata": {
      "needs_background": "light"
     },
     "output_type": "display_data"
    }
   ],
   "source": [
    "fig, ax = plt.subplots()\n",
    "img = librosa.display.specshow(lmpsc_noisy, x_axis='time', ax=ax)\n",
    "fig.colorbar(img, ax=ax)\n",
    "ax.set(title='LMPSC')"
   ]
  },
  {
   "cell_type": "markdown",
   "metadata": {},
   "source": [
    "## MFCC"
   ]
  },
  {
   "cell_type": "code",
   "execution_count": 16,
   "metadata": {},
   "outputs": [],
   "source": [
    "mfcc_noisy = librosa.feature.mfcc(y=noisy,sr=16000,n_mfcc=40,n_fft=fft_size, hop_length=int(fft_size/4),center=False)\n",
    "mfcc_estim = librosa.feature.mfcc(y=estim,sr=16000,n_mfcc=13,n_fft=fft_size, hop_length=int(fft_size/4),center=False)\n",
    "mfcc_noise = librosa.feature.mfcc(y=noise,sr=16000,n_mfcc=13,n_fft=fft_size, hop_length=int(fft_size/4),center=False)"
   ]
  },
  {
   "cell_type": "code",
   "execution_count": 17,
   "metadata": {},
   "outputs": [
    {
     "data": {
      "text/plain": [
       "(40, 383)"
      ]
     },
     "metadata": {},
     "output_type": "display_data"
    }
   ],
   "source": [
    "display(mfcc_noisy.shape)"
   ]
  },
  {
   "cell_type": "code",
   "execution_count": 18,
   "metadata": {},
   "outputs": [
    {
     "name": "stderr",
     "output_type": "stream",
     "text": [
      "<ipython-input-18-8e2521571a27>:1: RuntimeWarning: invalid value encountered in log\n",
      "  lmpsc_noisy = np.log(mfcc_noisy)\n"
     ]
    }
   ],
   "source": [
    "lmpsc_noisy = np.log(mfcc_noisy)"
   ]
  },
  {
   "cell_type": "markdown",
   "metadata": {},
   "source": [
    "## [test] Visualization"
   ]
  },
  {
   "cell_type": "code",
   "execution_count": 19,
   "metadata": {},
   "outputs": [
    {
     "data": {
      "text/plain": [
       "[Text(0.5, 1.0, 'MFCC')]"
      ]
     },
     "execution_count": 19,
     "metadata": {},
     "output_type": "execute_result"
    },
    {
     "data": {
      "image/png": "[encoded data removed]",
      "text/plain": [
       "<Figure size 432x288 with 2 Axes>"
      ]
     },
     "metadata": {
      "needs_background": "light"
     },
     "output_type": "display_data"
    }
   ],
   "source": [
    "fig, ax = plt.subplots()\n",
    "img = librosa.display.specshow(mfcc_noisy, x_axis='time', ax=ax)\n",
    "fig.colorbar(img, ax=ax)\n",
    "ax.set(title='MFCC')"
   ]
  },
  {
   "cell_type": "code",
   "execution_count": 20,
   "metadata": {},
   "outputs": [
    {
     "data": {
      "text/plain": [
       "[Text(0.5, 1.0, 'MFCC')]"
      ]
     },
     "execution_count": 20,
     "metadata": {},
     "output_type": "execute_result"
    },
    {
     "data": {
      "image/png": "[encoded data removed]",
      "text/plain": [
       "<Figure size 432x288 with 2 Axes>"
      ]
     },
     "metadata": {
      "needs_background": "light"
     },
     "output_type": "display_data"
    }
   ],
   "source": [
    "fig, ax = plt.subplots()\n",
    "img = librosa.display.specshow(mfcc_estim, x_axis='time', ax=ax)\n",
    "fig.colorbar(img, ax=ax)\n",
    "ax.set(title='MFCC')"
   ]
  },
  {
   "cell_type": "markdown",
   "metadata": {},
   "source": [
    "## [test]ISTFT"
   ]
  },
  {
   "cell_type": "code",
   "execution_count": 21,
   "metadata": {},
   "outputs": [],
   "source": [
    "noise = librosa.istft(spec_noise,window='hann', hop_length=None , win_length=None ,center=False)\n",
    "noisy = librosa.istft(spec_noisy,window='hann', hop_length=None , win_length=None ,center=False)\n",
    "estim = librosa.istft(spec_estim,window='hann', hop_length=None , win_length=None ,center=False)"
   ]
  },
  {
   "cell_type": "markdown",
   "metadata": {},
   "source": [
    "## [test]Save"
   ]
  },
  {
   "cell_type": "code",
   "execution_count": 22,
   "metadata": {},
   "outputs": [],
   "source": [
    "soundfile.write('output_noisy.wav',noisy,16000);\n",
    "soundfile.write('output_estim.wav',estim,16000);\n",
    "soundfile.write('output_noise.wav',noise,16000);"
   ]
  },
  {
   "cell_type": "code",
   "execution_count": null,
   "metadata": {},
   "outputs": [],
   "source": []
  },
  {
   "cell_type": "code",
   "execution_count": null,
   "metadata": {},
   "outputs": [],
   "source": []
  },
  {
   "cell_type": "code",
   "execution_count": 23,
   "metadata": {},
   "outputs": [],
   "source": [
    "noise = librosa.istft(spec_noise,window='hann', hop_length=None , win_length=None ,center=False)"
   ]
  }
 ],
 "metadata": {
  "kernelspec": {
   "display_name": "Python 3",
   "language": "python",
   "name": "python3"
  },
  "language_info": {
   "codemirror_mode": {
    "name": "ipython",
    "version": 3
   },
   "file_extension": ".py",
   "mimetype": "text/x-python",
   "name": "python",
   "nbconvert_exporter": "python",
   "pygments_lexer": "ipython3",
   "version": "3.8.0"
  }
 },
 "nbformat": 4,
 "nbformat_minor": 4
}
