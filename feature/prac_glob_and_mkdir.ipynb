{
 "cells": [
  {
   "cell_type": "code",
   "execution_count": 8,
   "metadata": {},
   "outputs": [],
   "source": [
    "clean_root     = '/home/data/kbh/isolated_ext'\n",
    "noise_mask_root = '/home/data/kbh/mask'\n",
    "estimated_root = '/home/data/kbh/CGMM-RLS/trial_04_mask/winL1024_gamma0.99_Ln5_MVDRon0'"
   ]
  },
  {
   "cell_type": "code",
   "execution_count": 9,
   "metadata": {},
   "outputs": [],
   "source": [
    "import os,sys,glob"
   ]
  },
  {
   "cell_type": "code",
   "execution_count": 14,
   "metadata": {},
   "outputs": [],
   "source": [
    "clean_list = [x for x in glob.glob(os.path.join(clean_root,'*simu','*CH5.Clean.wav')) if not os.path.isdir(x)]\n",
    "estimated_list = [x for x in glob.glob(os.path.join(estimated_root,'*simu','*')) if not os.path.isdir(x)]\n",
    "noise_mask_list = [x for x in glob.glob(os.path.join(noise_mask_root,'*simu','*')) if not os.path.isdir(x)]"
   ]
  },
  {
   "cell_type": "code",
   "execution_count": null,
   "metadata": {},
   "outputs": [],
   "source": []
  },
  {
   "cell_type": "code",
   "execution_count": 15,
   "metadata": {},
   "outputs": [
    {
     "data": {
      "text/plain": [
       "[]"
      ]
     },
     "metadata": {},
     "output_type": "display_data"
    }
   ],
   "source": [
    "display(estimated_list)"
   ]
  },
  {
   "cell_type": "code",
   "execution_count": null,
   "metadata": {},
   "outputs": [],
   "source": []
  }
 ],
 "metadata": {
  "kernelspec": {
   "display_name": "Python 3",
   "language": "python",
   "name": "python3"
  },
  "language_info": {
   "codemirror_mode": {
    "name": "ipython",
    "version": 3
   },
   "file_extension": ".py",
   "mimetype": "text/x-python",
   "name": "python",
   "nbconvert_exporter": "python",
   "pygments_lexer": "ipython3",
   "version": "3.8.0"
  }
 },
 "nbformat": 4,
 "nbformat_minor": 4
}
