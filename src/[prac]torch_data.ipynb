{
 "cells": [
  {
   "cell_type": "code",
   "execution_count": null,
   "metadata": {},
   "outputs": [],
   "source": [
    "import numpy as np\n",
    "import torch"
   ]
  },
  {
   "cell_type": "code",
   "execution_count": null,
   "metadata": {},
   "outputs": [],
   "source": [
    "npy_noisy = np.load('../feature/noisy.npy')\n",
    "npy_clean = np.load('../feature/clean.npy')"
   ]
  },
  {
   "cell_type": "code",
   "execution_count": null,
   "metadata": {},
   "outputs": [],
   "source": [
    "display(npy_noisy.shape)\n",
    "display(type(npy_noisy))"
   ]
  },
  {
   "cell_type": "code",
   "execution_count": null,
   "metadata": {},
   "outputs": [],
   "source": [
    "torch_noisy = torch.from_numpy(npy_noisy)\n",
    "torch_clean = torch.from_numpy(npy_clean)"
   ]
  },
  {
   "cell_type": "code",
   "execution_count": null,
   "metadata": {},
   "outputs": [],
   "source": [
    "display(torch_noisy.shape)\n",
    "display(type(torch_noisy))"
   ]
  },
  {
   "cell_type": "code",
   "execution_count": null,
   "metadata": {},
   "outputs": [],
   "source": [
    "data = torch.stack((torch_noisy,torch_clean),0)"
   ]
  },
  {
   "cell_type": "code",
   "execution_count": null,
   "metadata": {},
   "outputs": [],
   "source": [
    "display(data.shape)"
   ]
  },
  {
   "cell_type": "code",
   "execution_count": null,
   "metadata": {},
   "outputs": [],
   "source": [
    "m = torch.nn.Linear()"
   ]
  },
  {
   "cell_type": "markdown",
   "metadata": {},
   "source": [
    "# DatasetDCUNET"
   ]
  },
  {
   "cell_type": "code",
   "execution_count": 1,
   "metadata": {},
   "outputs": [
    {
     "name": "stderr",
     "output_type": "stream",
     "text": [
      "/home/kbh/anaconda3/envs/dnn/lib/python3.8/site-packages/torchaudio/backend/utils.py:53: UserWarning: \"sox\" backend is being deprecated. The default backend will be changed to \"sox_io\" backend in 0.8.0 and \"sox\" backend will be removed in 0.9.0. Please migrate to \"sox_io\" backend. Please refer to https://github.com/pytorch/audio/issues/903 for the detail.\n",
      "  warnings.warn(\n"
     ]
    }
   ],
   "source": [
    "from dataset.DCUNET import DatasetDCUNET\n",
    "from utils.hparams import HParam\n",
    "from model.DCUNET import ModelDCUNET\n",
    "import torch"
   ]
  },
  {
   "cell_type": "code",
   "execution_count": 20,
   "metadata": {},
   "outputs": [
    {
     "data": {
      "text/plain": [
       "\"gpu: 'cuda:0'\\n---\\nmodel :\\n  FC :\\n    len : 3\\n  DCUNET : \\n    num_frame : 80\\n---\\ntrain:\\n  epoch: 50\\n  batch_size: 12\\n  num_workers: 16\\n  optimizer: 'adam'\\n  adam: 0.0001\\n  adabound:\\n    initial: 0.001\\n    final: 0.05\\n  frame_num: 1024\\n\\n  summary_interval: 10\\n  validation_interval: 100\\n  checkpoint_interval: 1000\\n---\\nloss:\\n  type: 'wSDR'\\n---\\nscheduler: # Plateau, oneCycle, None\\n  type: 'Plateau'\\n  oneCycle:\\n    max_lr: 0.0001\\n  Plateau:\\n    mode: 'min'\\n    patience: 2\\n    factor: 0.5\\n    min_lr: 0.000005\\n---\\naudio:\\n  frame : 1024\\n  shift : 256\\n  samplerate : 16000\\n---\\ndata:\\n  root: '/home/data/kbh/3-channel-dnn/'\\n---\\n  log:\\n    root: '/home/nas/user/kbh/3-channel-dnn/'\""
      ]
     },
     "execution_count": 20,
     "metadata": {},
     "output_type": "execute_result"
    }
   ],
   "source": [
    "f = open('../config/default.yaml')\n",
    "f.read()"
   ]
  },
  {
   "cell_type": "code",
   "execution_count": 21,
   "metadata": {},
   "outputs": [],
   "source": [
    "hp = HParam('../config/default.yaml')"
   ]
  },
  {
   "cell_type": "code",
   "execution_count": 22,
   "metadata": {},
   "outputs": [],
   "source": [
    "data = DatasetDCUNET(hp.data.root+'/STFT_R',hp.data.root+'/WAV',['dt05_bus_simu'],'*.npy',num_frame=hp.model.DCUNET.num_frame)"
   ]
  },
  {
   "cell_type": "code",
   "execution_count": 23,
   "metadata": {
    "scrolled": false
   },
   "outputs": [
    {
     "name": "stdout",
     "output_type": "stream",
     "text": [
      "torch.Size([3, 513, 80, 2])\n",
      "torch.Size([20480])\n",
      "torch.Size([20480])\n"
     ]
    }
   ],
   "source": [
    "x= data[0]\n",
    "print(x['input'].shape)\n",
    "print(x['clean'].shape)\n",
    "print(x['noisy'].shape)"
   ]
  },
  {
   "cell_type": "code",
   "execution_count": 24,
   "metadata": {},
   "outputs": [
    {
     "name": "stdout",
     "output_type": "stream",
     "text": [
      "torch.Size([1, 3, 513, 80, 2])\n"
     ]
    }
   ],
   "source": [
    "input = x['input']\n",
    "# Batch : 1\n",
    "input =torch.unsqueeze(input,0)\n",
    "print(input.shape)"
   ]
  },
  {
   "cell_type": "code",
   "execution_count": 25,
   "metadata": {},
   "outputs": [],
   "source": [
    "model = ModelDCUNET(input_channels=3)"
   ]
  },
  {
   "cell_type": "code",
   "execution_count": 26,
   "metadata": {},
   "outputs": [
    {
     "name": "stdout",
     "output_type": "stream",
     "text": [
      "torch.Size([1, 3, 513, 80, 2])\n",
      "x0 torch.Size([1, 31, 513, 80, 2])\n",
      "x1 torch.Size([1, 31, 513, 80, 2])\n",
      "x2 torch.Size([1, 62, 257, 40, 2])\n",
      "x3 torch.Size([1, 62, 129, 40, 2])\n",
      "x4 torch.Size([1, 62, 65, 20, 2])\n",
      "x5 torch.Size([1, 62, 33, 20, 2])\n",
      "x6 torch.Size([1, 62, 17, 10, 2])\n",
      "x7 torch.Size([1, 62, 9, 10, 2])\n",
      "x8 torch.Size([1, 62, 5, 5, 2])\n",
      "x9 torch.Size([1, 128, 3, 5, 2])\n",
      "encoded  torch.Size([1, 128, 3, 5, 2])\n",
      "p0, torch.Size([1, 62, 5, 5, 2]) + x9, torch.Size([1, 62, 5, 5, 2]), padding (2, 1)\n",
      "p1, torch.Size([1, 62, 9, 10, 2]) + x8, torch.Size([1, 62, 9, 10, 2]), padding (2, 1)\n",
      "p2, torch.Size([1, 62, 17, 10, 2]) + x7, torch.Size([1, 62, 17, 10, 2]), padding (2, 1)\n",
      "p3, torch.Size([1, 62, 33, 20, 2]) + x6, torch.Size([1, 62, 33, 20, 2]), padding (2, 1)\n",
      "p4, torch.Size([1, 62, 65, 20, 2]) + x5, torch.Size([1, 62, 65, 20, 2]), padding (2, 1)\n",
      "p5, torch.Size([1, 62, 129, 40, 2]) + x4, torch.Size([1, 62, 129, 40, 2]), padding (2, 1)\n",
      "p6, torch.Size([1, 62, 257, 40, 2]) + x3, torch.Size([1, 62, 257, 40, 2]), padding (3, 2)\n",
      "p7, torch.Size([1, 62, 513, 80, 2]) + x2, torch.Size([1, 31, 513, 80, 2]), padding (3, 2)\n",
      "p8, torch.Size([1, 62, 513, 80, 2]) + x1, torch.Size([1, 31, 513, 80, 2]), padding (0, 3)\n"
     ]
    }
   ],
   "source": [
    "print(input.shape)\n",
    "output = model(input)"
   ]
  },
  {
   "cell_type": "markdown",
   "metadata": {},
   "source": [
    "# DatasetFC : How?"
   ]
  },
  {
   "cell_type": "markdown",
   "metadata": {},
   "source": [
    "+ Magnitude only ? \n",
    "+ Respectively ? "
   ]
  },
  {
   "cell_type": "code",
   "execution_count": 7,
   "metadata": {},
   "outputs": [],
   "source": [
    "from dataset import DatasetFC\n",
    "import torch.nn as nn"
   ]
  },
  {
   "cell_type": "code",
   "execution_count": 2,
   "metadata": {},
   "outputs": [],
   "source": [
    "d = DatasetFC('/home/data/kbh/3-channel-dnn/STFT_R/','dt05_bus_simu','*.npy')\n",
    "a = d[0]"
   ]
  },
  {
   "cell_type": "code",
   "execution_count": 9,
   "metadata": {
    "scrolled": false
   },
   "outputs": [
    {
     "data": {
      "text/plain": [
       "torch.Size([3, 513, 7, 2])"
      ]
     },
     "metadata": {},
     "output_type": "display_data"
    }
   ],
   "source": [
    "display(a['input'].shape)"
   ]
  },
  {
   "cell_type": "code",
   "execution_count": null,
   "metadata": {},
   "outputs": [],
   "source": []
  }
 ],
 "metadata": {
  "kernelspec": {
   "display_name": "Python 3",
   "language": "python",
   "name": "python3"
  },
  "language_info": {
   "codemirror_mode": {
    "name": "ipython",
    "version": 3
   },
   "file_extension": ".py",
   "mimetype": "text/x-python",
   "name": "python",
   "nbconvert_exporter": "python",
   "pygments_lexer": "ipython3",
   "version": "3.8.0"
  }
 },
 "nbformat": 4,
 "nbformat_minor": 4
}
